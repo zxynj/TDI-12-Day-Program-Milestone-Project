{
 "cells": [
  {
   "cell_type": "code",
   "execution_count": 11,
   "metadata": {},
   "outputs": [],
   "source": [
    "import requests\n",
    "import pandas as pd\n",
    "from bokeh.plotting import figure, show, output_notebook\n",
    "from bokeh.models import ColumnDataSource, ColumnDataSource, DatetimeTickFormatter, Range1d, HoverTool, CrosshairTool\n",
    "from bokeh.embed import components\n",
    "from flask import Flask, render_template, request, redirect"
   ]
  },
  {
   "cell_type": "code",
   "execution_count": 12,
   "metadata": {},
   "outputs": [],
   "source": [
    "app = Flask(__name__)"
   ]
  },
  {
   "cell_type": "code",
   "execution_count": 13,
   "metadata": {},
   "outputs": [],
   "source": [
    "def req_data(ticker):\n",
    "    url=\"https://www.quandl.com/api/v3/datatables/WIKI/PRICES.json?ticker=\"+ticker+\"&qopts.columns=date,close&api_key=LG2WsxMs_SwDXxbBfxGc\"\n",
    "    page = requests.get(url)\n",
    "    json = page.json()\n",
    "    df = pd.DataFrame(json['datatable']['data'], columns=['date','close'])\n",
    "    df['date'] = pd.to_datetime(df['date'])\n",
    "    df['date_str'] = df['date'].map(lambda x: x.strftime(\"%Y-%m-%d\"))\n",
    "    df['close_str'] = df['close'].map(lambda x: '{:,.2f}'.format(x))\n",
    "    return df"
   ]
  },
  {
   "cell_type": "code",
   "execution_count": 14,
   "metadata": {},
   "outputs": [],
   "source": [
    "def plot_bokeh(df, ticker):\n",
    "    p = figure(width=800, height=400, title=ticker.upper(), tools=\"\")\n",
    "\n",
    "    hover = HoverTool(tooltips = \"\"\"\n",
    "    <div>\n",
    "    <table>\n",
    "    <tr><td class=\"ttlab\">Date:</td><td>@date_str</td></tr>\n",
    "    <tr><td class=\"ttlab\">Close:</td><td>@close_str</td></tr>\n",
    "    </table>\n",
    "    </div>\n",
    "    \"\"\")\n",
    "\n",
    "    hover.mode = 'vline'\n",
    "    hover.line_policy = 'nearest'\n",
    "    p.add_tools(hover)\n",
    "\n",
    "    crosshair = CrosshairTool()\n",
    "    crosshair.dimensions = 'height'\n",
    "    crosshair.line_color = \"#ffffff\"\n",
    "    p.add_tools(crosshair)\n",
    "\n",
    "    dfcds = ColumnDataSource(df)\n",
    "    p.line('date', 'close', source = dfcds, color=\"#44ddaa\")\n",
    "\n",
    "    p.xaxis.formatter=DatetimeTickFormatter(days=[\"%d %b\"])\n",
    "    p.x_range=Range1d(df['date'].min(), df['date'].max())\n",
    "\n",
    "    p.toolbar.logo = None\n",
    "    p.toolbar_location = None\n",
    "\n",
    "    return p"
   ]
  },
  {
   "cell_type": "code",
   "execution_count": 15,
   "metadata": {},
   "outputs": [],
   "source": [
    "@app.route('/', methods=['GET','POST'])\n",
    "def index():\n",
    "    return render_template('index.html')"
   ]
  },
  {
   "cell_type": "code",
   "execution_count": 16,
   "metadata": {},
   "outputs": [],
   "source": [
    "@app.route('/graph', methods=['POST'])\n",
    "def graph():\n",
    "    tick = request.form['note_input'].upper()\n",
    "    ticker_df = req_data(tick)\n",
    "    graph = plot_bokeh(ticker_df, tick)\n",
    "    script, div = components(graph)\n",
    "    \n",
    "    return render_template('graph.html', div = div, script = script)"
   ]
  },
  {
   "cell_type": "code",
   "execution_count": null,
   "metadata": {},
   "outputs": [],
   "source": [
    "if __name__ == '__main__':\n",
    "    app.run()"
   ]
  },
  {
   "cell_type": "code",
   "execution_count": null,
   "metadata": {},
   "outputs": [],
   "source": []
  }
 ],
 "metadata": {
  "kernelspec": {
   "display_name": "Python 3",
   "language": "python",
   "name": "python3"
  },
  "language_info": {
   "codemirror_mode": {
    "name": "ipython",
    "version": 3
   },
   "file_extension": ".py",
   "mimetype": "text/x-python",
   "name": "python",
   "nbconvert_exporter": "python",
   "pygments_lexer": "ipython3",
   "version": "3.6.8"
  }
 },
 "nbformat": 4,
 "nbformat_minor": 2
}
